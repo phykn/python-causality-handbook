{
 "cells": [
  {
   "cell_type": "markdown",
   "metadata": {},
   "source": [
    "# 21 - Meta Learners\n",
    " \n",
    " \n",
    "이제 치료 효과의 이질성 (크기) 를 찾는데 관심이 있습니다. 즉, 단위 데이터가 치료에 대해 어떻게 반응하는지 알아보고자 합니다. 이러한 관점에서, $\\tau(x)$를 추정하길 원합니다.\n",
    "\n",
    " \n",
    "$\n",
    "\\tau(x) = E[Y_i(1) − Y_i(0)|X] = E[\\tau_i|X]\n",
    "$\n",
    " \n",
    "연속일 경우, $E[\\delta Y_i(t)|X]$. 다시 말해, 우리는 단위 데이터가 치료에 얼마나 민감한지 알고자 합니다. 이는 한정된 예산으로 모든 사람을 치료할 수 없어 우선순위를 정해야 할 때 매우 유용합니다. 앞에서는 변수 $Y$를 예측 모델 넣어 조건부 평균 치료 효과(CATE) 추정치를 얻을 수 있는 방법을 살펴보았습니다. There, we had to pay a price in terms of variance increase. 이는 데이터 사이언스에서 자주 보이는 현상입니다. 개별 방법은 각기 장단점이 있어 특정한 가장 좋은 방법은 없습니다. 상황에 적합한 방법을 선택할 수 있도록 다양한 기술을 배울 필요가 있습니다. 따라서 이 장에서는 여러분이 사용할 수 있는 다양한 도구를 제공하는 데 초점을 맞추었습니다.\n",
    "\n",
    "![img](data/img/meta-learners/learned-new-move.png)  \n",
    "[신난다! 데이터 사이언티스트는 인과 추론을 얻었다.]\n",
    "\n",
    "Meta learner는 CATE 추정 문제를 해결하기 위해 기계 학습 방법을 활용하는 간단한 방법입니다. 다시 말하지만, 가장 좋은 하나는 특정할 수 없으며 개별 방법은 각각의 약점을 가집니다.\n",
    "\n",
    "I'll try to go over them, but keep in mind that this stuff is highly dependent on the context. 뿐만 아니라 Meta leraner 는 선형 회귀, 결정 트리, 신경망, Gaussian process 등 다양한 ML 모델을 사용합니다. Meta learner의 성공 여부는 어떤 ML 방법을 사용하느냐에 따라 크게 달라집니다. 여러분은 많은 것을 시도하고 무엇이 가장 좋은지 살펴 보아야 합니다."
   ]
  }
 ],
 "metadata": {
  "celltoolbar": "Tags",
  "kernelspec": {
   "display_name": "Python 3.8.10 ('pytorch')",
   "language": "python",
   "name": "python3"
  },
  "language_info": {
   "codemirror_mode": {
    "name": "ipython",
    "version": 3
   },
   "file_extension": ".py",
   "mimetype": "text/x-python",
   "name": "python",
   "nbconvert_exporter": "python",
   "pygments_lexer": "ipython3",
   "version": "3.8.10"
  },
  "vscode": {
   "interpreter": {
    "hash": "65b5f243489bd9358788296533fc03025fea49f65e08ef6aa7a40b96c7113e3c"
   }
  }
 },
 "nbformat": 4,
 "nbformat_minor": 4
}
